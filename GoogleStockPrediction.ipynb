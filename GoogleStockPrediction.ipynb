{
  "nbformat": 4,
  "nbformat_minor": 0,
  "metadata": {
    "colab": {
      "name": "Untitled8.ipynb",
      "provenance": [],
      "collapsed_sections": []
    },
    "kernelspec": {
      "name": "python3",
      "display_name": "Python 3"
    }
  },
  "cells": [
    {
      "cell_type": "code",
      "metadata": {
        "id": "AiwsVb_9VlKE",
        "colab_type": "code",
        "outputId": "6143d049-369b-4273-e308-bfba637c460b",
        "colab": {
          "base_uri": "https://localhost:8080/",
          "height": 114
        }
      },
      "source": [
        "import yfinance as yf \n",
        "import pandas as pd\n",
        "import numpy as np\n",
        "from keras.models import Sequential\n",
        "from keras.layers import Dense\n",
        "from keras.layers import LSTM\n",
        "from keras.layers import Dropout\n",
        "import matplotlib.pyplot as plt\n",
        "from sklearn.preprocessing import MinMaxScaler\n",
        "\n",
        "train_data = pd.DataFrame(yf.download(\"GOOG\", start=\"2013-01-01\", end=\"2018-12-31\"))\n",
        "test_data= pd.DataFrame(yf.download(\"GOOG\", start=\"2019-01-01\", end=\"2019-12-31\"))"
      ],
      "execution_count": 0,
      "outputs": [
        {
          "output_type": "stream",
          "text": [
            "Using TensorFlow backend.\n"
          ],
          "name": "stderr"
        },
        {
          "output_type": "display_data",
          "data": {
            "text/html": [
              "<p style=\"color: red;\">\n",
              "The default version of TensorFlow in Colab will soon switch to TensorFlow 2.x.<br>\n",
              "We recommend you <a href=\"https://www.tensorflow.org/guide/migrate\" target=\"_blank\">upgrade</a> now \n",
              "or ensure your notebook will continue to use TensorFlow 1.x via the <code>%tensorflow_version 1.x</code> magic:\n",
              "<a href=\"https://colab.research.google.com/notebooks/tensorflow_version.ipynb\" target=\"_blank\">more info</a>.</p>\n"
            ],
            "text/plain": [
              "<IPython.core.display.HTML object>"
            ]
          },
          "metadata": {
            "tags": []
          }
        },
        {
          "output_type": "stream",
          "text": [
            "[*********************100%***********************]  1 of 1 completed\n",
            "[*********************100%***********************]  1 of 1 completed\n"
          ],
          "name": "stdout"
        }
      ]
    },
    {
      "cell_type": "code",
      "metadata": {
        "id": "AZFAWAPoVvPN",
        "colab_type": "code",
        "outputId": "500eefd3-1048-476f-caee-bae7742253ce",
        "colab": {
          "base_uri": "https://localhost:8080/",
          "height": 252
        }
      },
      "source": [
        "print(train_data.shape)\n",
        "train_data.head()"
      ],
      "execution_count": 0,
      "outputs": [
        {
          "output_type": "stream",
          "text": [
            "(1509, 6)\n"
          ],
          "name": "stdout"
        },
        {
          "output_type": "execute_result",
          "data": {
            "text/html": [
              "<div>\n",
              "<style scoped>\n",
              "    .dataframe tbody tr th:only-of-type {\n",
              "        vertical-align: middle;\n",
              "    }\n",
              "\n",
              "    .dataframe tbody tr th {\n",
              "        vertical-align: top;\n",
              "    }\n",
              "\n",
              "    .dataframe thead th {\n",
              "        text-align: right;\n",
              "    }\n",
              "</style>\n",
              "<table border=\"1\" class=\"dataframe\">\n",
              "  <thead>\n",
              "    <tr style=\"text-align: right;\">\n",
              "      <th></th>\n",
              "      <th>Open</th>\n",
              "      <th>High</th>\n",
              "      <th>Low</th>\n",
              "      <th>Close</th>\n",
              "      <th>Adj Close</th>\n",
              "      <th>Volume</th>\n",
              "    </tr>\n",
              "    <tr>\n",
              "      <th>Date</th>\n",
              "      <th></th>\n",
              "      <th></th>\n",
              "      <th></th>\n",
              "      <th></th>\n",
              "      <th></th>\n",
              "      <th></th>\n",
              "    </tr>\n",
              "  </thead>\n",
              "  <tbody>\n",
              "    <tr>\n",
              "      <th>2013-01-02</th>\n",
              "      <td>358.366760</td>\n",
              "      <td>362.142609</td>\n",
              "      <td>356.937103</td>\n",
              "      <td>360.274597</td>\n",
              "      <td>360.274597</td>\n",
              "      <td>5101500</td>\n",
              "    </tr>\n",
              "    <tr>\n",
              "      <th>2013-01-03</th>\n",
              "      <td>361.111481</td>\n",
              "      <td>364.598389</td>\n",
              "      <td>359.014313</td>\n",
              "      <td>360.483826</td>\n",
              "      <td>360.483826</td>\n",
              "      <td>4653700</td>\n",
              "    </tr>\n",
              "    <tr>\n",
              "      <th>2013-01-04</th>\n",
              "      <td>363.308228</td>\n",
              "      <td>369.350586</td>\n",
              "      <td>362.481323</td>\n",
              "      <td>367.607117</td>\n",
              "      <td>367.607117</td>\n",
              "      <td>5547600</td>\n",
              "    </tr>\n",
              "    <tr>\n",
              "      <th>2013-01-07</th>\n",
              "      <td>366.351837</td>\n",
              "      <td>368.309479</td>\n",
              "      <td>363.925903</td>\n",
              "      <td>366.003143</td>\n",
              "      <td>366.003143</td>\n",
              "      <td>3323800</td>\n",
              "    </tr>\n",
              "    <tr>\n",
              "      <th>2013-01-08</th>\n",
              "      <td>366.396667</td>\n",
              "      <td>366.775238</td>\n",
              "      <td>360.862396</td>\n",
              "      <td>365.280823</td>\n",
              "      <td>365.280823</td>\n",
              "      <td>3364700</td>\n",
              "    </tr>\n",
              "  </tbody>\n",
              "</table>\n",
              "</div>"
            ],
            "text/plain": [
              "                  Open        High         Low       Close   Adj Close   Volume\n",
              "Date                                                                           \n",
              "2013-01-02  358.366760  362.142609  356.937103  360.274597  360.274597  5101500\n",
              "2013-01-03  361.111481  364.598389  359.014313  360.483826  360.483826  4653700\n",
              "2013-01-04  363.308228  369.350586  362.481323  367.607117  367.607117  5547600\n",
              "2013-01-07  366.351837  368.309479  363.925903  366.003143  366.003143  3323800\n",
              "2013-01-08  366.396667  366.775238  360.862396  365.280823  365.280823  3364700"
            ]
          },
          "metadata": {
            "tags": []
          },
          "execution_count": 2
        }
      ]
    },
    {
      "cell_type": "code",
      "metadata": {
        "id": "XTTelWK3V3ud",
        "colab_type": "code",
        "outputId": "8e005ad0-16f6-4b2f-8452-9b8d11556695",
        "colab": {
          "base_uri": "https://localhost:8080/",
          "height": 252
        }
      },
      "source": [
        "print(test_data.shape)\n",
        "test_data.head()"
      ],
      "execution_count": 0,
      "outputs": [
        {
          "output_type": "stream",
          "text": [
            "(251, 6)\n"
          ],
          "name": "stdout"
        },
        {
          "output_type": "execute_result",
          "data": {
            "text/html": [
              "<div>\n",
              "<style scoped>\n",
              "    .dataframe tbody tr th:only-of-type {\n",
              "        vertical-align: middle;\n",
              "    }\n",
              "\n",
              "    .dataframe tbody tr th {\n",
              "        vertical-align: top;\n",
              "    }\n",
              "\n",
              "    .dataframe thead th {\n",
              "        text-align: right;\n",
              "    }\n",
              "</style>\n",
              "<table border=\"1\" class=\"dataframe\">\n",
              "  <thead>\n",
              "    <tr style=\"text-align: right;\">\n",
              "      <th></th>\n",
              "      <th>Open</th>\n",
              "      <th>High</th>\n",
              "      <th>Low</th>\n",
              "      <th>Close</th>\n",
              "      <th>Adj Close</th>\n",
              "      <th>Volume</th>\n",
              "    </tr>\n",
              "    <tr>\n",
              "      <th>Date</th>\n",
              "      <th></th>\n",
              "      <th></th>\n",
              "      <th></th>\n",
              "      <th></th>\n",
              "      <th></th>\n",
              "      <th></th>\n",
              "    </tr>\n",
              "  </thead>\n",
              "  <tbody>\n",
              "    <tr>\n",
              "      <th>2019-01-02</th>\n",
              "      <td>1016.570007</td>\n",
              "      <td>1052.319946</td>\n",
              "      <td>1015.710022</td>\n",
              "      <td>1045.849976</td>\n",
              "      <td>1045.849976</td>\n",
              "      <td>1532600</td>\n",
              "    </tr>\n",
              "    <tr>\n",
              "      <th>2019-01-03</th>\n",
              "      <td>1041.000000</td>\n",
              "      <td>1056.979980</td>\n",
              "      <td>1014.070007</td>\n",
              "      <td>1016.059998</td>\n",
              "      <td>1016.059998</td>\n",
              "      <td>1841100</td>\n",
              "    </tr>\n",
              "    <tr>\n",
              "      <th>2019-01-04</th>\n",
              "      <td>1032.589966</td>\n",
              "      <td>1070.839966</td>\n",
              "      <td>1027.417969</td>\n",
              "      <td>1070.709961</td>\n",
              "      <td>1070.709961</td>\n",
              "      <td>2093900</td>\n",
              "    </tr>\n",
              "    <tr>\n",
              "      <th>2019-01-07</th>\n",
              "      <td>1071.500000</td>\n",
              "      <td>1074.000000</td>\n",
              "      <td>1054.760010</td>\n",
              "      <td>1068.390015</td>\n",
              "      <td>1068.390015</td>\n",
              "      <td>1981900</td>\n",
              "    </tr>\n",
              "    <tr>\n",
              "      <th>2019-01-08</th>\n",
              "      <td>1076.109985</td>\n",
              "      <td>1084.560059</td>\n",
              "      <td>1060.530029</td>\n",
              "      <td>1076.280029</td>\n",
              "      <td>1076.280029</td>\n",
              "      <td>1764900</td>\n",
              "    </tr>\n",
              "  </tbody>\n",
              "</table>\n",
              "</div>"
            ],
            "text/plain": [
              "                   Open         High  ...    Adj Close   Volume\n",
              "Date                                  ...                      \n",
              "2019-01-02  1016.570007  1052.319946  ...  1045.849976  1532600\n",
              "2019-01-03  1041.000000  1056.979980  ...  1016.059998  1841100\n",
              "2019-01-04  1032.589966  1070.839966  ...  1070.709961  2093900\n",
              "2019-01-07  1071.500000  1074.000000  ...  1068.390015  1981900\n",
              "2019-01-08  1076.109985  1084.560059  ...  1076.280029  1764900\n",
              "\n",
              "[5 rows x 6 columns]"
            ]
          },
          "metadata": {
            "tags": []
          },
          "execution_count": 3
        }
      ]
    },
    {
      "cell_type": "code",
      "metadata": {
        "id": "hWEakPJfXH4E",
        "colab_type": "code",
        "colab": {}
      },
      "source": [
        "#we take only Opening stock values \n",
        "train_data=np.array(train_data['Open'])\n",
        "test_data=np.array(test_data['Open'])"
      ],
      "execution_count": 0,
      "outputs": []
    },
    {
      "cell_type": "code",
      "metadata": {
        "id": "ueOWALhdfggP",
        "colab_type": "code",
        "colab": {}
      },
      "source": [
        "train_data=train_data.reshape((-1,1))\n",
        "test_data=test_data.reshape((-1,1))"
      ],
      "execution_count": 0,
      "outputs": []
    },
    {
      "cell_type": "code",
      "metadata": {
        "id": "iACVwdDaYTh6",
        "colab_type": "code",
        "colab": {}
      },
      "source": [
        "#Normalizing data in range 0 and 1\n",
        "scaler=MinMaxScaler()"
      ],
      "execution_count": 0,
      "outputs": []
    },
    {
      "cell_type": "code",
      "metadata": {
        "id": "ErL5kIlAYqf7",
        "colab_type": "code",
        "outputId": "70593f31-50e8-4b87-9e61-159d8990baae",
        "colab": {
          "base_uri": "https://localhost:8080/",
          "height": 136
        }
      },
      "source": [
        "scaled_train_data=scaler.fit_transform(train_data)\n",
        "scaled_train_data"
      ],
      "execution_count": 0,
      "outputs": [
        {
          "output_type": "execute_result",
          "data": {
            "text/plain": [
              "array([[0.00799192],\n",
              "       [0.01097535],\n",
              "       [0.01336316],\n",
              "       ...,\n",
              "       [0.69348437],\n",
              "       [0.72407182],\n",
              "       [0.75936582]])"
            ]
          },
          "metadata": {
            "tags": []
          },
          "execution_count": 7
        }
      ]
    },
    {
      "cell_type": "code",
      "metadata": {
        "id": "GqXHm62KZ1WC",
        "colab_type": "code",
        "colab": {}
      },
      "source": [
        "#creating data loaders with 50 time steps and output label after 5 steps\n",
        "x_train=[]\n",
        "y_train=[]\n",
        "\n",
        "for i in range(50,len(scaled_train_data)):\n",
        "  x_train.append(scaled_train_data[i-50:i])\n",
        "  y_train.append(scaled_train_data[i])\n",
        "\n",
        "x_train,y_train=np.array(x_train),np.array(y_train)\n",
        "\n",
        "x_train=np.reshape(x_train,(x_train.shape[0],x_train.shape[1],1))\n"
      ],
      "execution_count": 0,
      "outputs": []
    },
    {
      "cell_type": "code",
      "metadata": {
        "id": "-68kjFTdai1K",
        "colab_type": "code",
        "outputId": "718b00ed-06ab-447f-bef0-c89b588b5d10",
        "colab": {
          "base_uri": "https://localhost:8080/",
          "height": 74
        }
      },
      "source": [
        "#creating a sequential model\n",
        "model=Sequential()\n"
      ],
      "execution_count": 0,
      "outputs": [
        {
          "output_type": "stream",
          "text": [
            "WARNING:tensorflow:From /usr/local/lib/python3.6/dist-packages/keras/backend/tensorflow_backend.py:66: The name tf.get_default_graph is deprecated. Please use tf.compat.v1.get_default_graph instead.\n",
            "\n"
          ],
          "name": "stdout"
        }
      ]
    },
    {
      "cell_type": "code",
      "metadata": {
        "id": "-eh0QVakdnpf",
        "colab_type": "code",
        "outputId": "7cd9b92f-dc59-45cd-96a0-b3dfe15c305e",
        "colab": {
          "base_uri": "https://localhost:8080/",
          "height": 196
        }
      },
      "source": [
        "#adding LSTM layers and regularize at dropout rate-0.3\n",
        "#layer -1\n",
        "model.add(LSTM(units=60,return_sequences=True,input_shape=(x_train.shape[1],1)))\n",
        "model.add(Dropout(0.2))\n",
        "\n",
        "#layer -2\n",
        "model.add(LSTM(units=60,return_sequences=True))\n",
        "model.add(Dropout(0.2))\n",
        "\n",
        "#layer -3\n",
        "model.add(LSTM(units=60,return_sequences=True))\n",
        "model.add(Dropout(0.2))\n",
        "\n",
        "#layer -4\n",
        "model.add(LSTM(units=60,return_sequences=True))\n",
        "model.add(Dropout(0.2))\n",
        "\n",
        "#layer -6\n",
        "model.add(LSTM(units=60,return_sequences=True))\n",
        "model.add(Dropout(0.2))\n",
        "\n",
        "#layer -6\n",
        "model.add(LSTM(units=60,return_sequences=True))\n",
        "model.add(Dropout(0.2))\n",
        "\n",
        "#layer -7\n",
        "model.add(LSTM(units=60))\n",
        "model.add(Dropout(0.2))\n"
      ],
      "execution_count": 0,
      "outputs": [
        {
          "output_type": "stream",
          "text": [
            "WARNING:tensorflow:From /usr/local/lib/python3.6/dist-packages/keras/backend/tensorflow_backend.py:541: The name tf.placeholder is deprecated. Please use tf.compat.v1.placeholder instead.\n",
            "\n",
            "WARNING:tensorflow:From /usr/local/lib/python3.6/dist-packages/keras/backend/tensorflow_backend.py:4432: The name tf.random_uniform is deprecated. Please use tf.random.uniform instead.\n",
            "\n",
            "WARNING:tensorflow:From /usr/local/lib/python3.6/dist-packages/keras/backend/tensorflow_backend.py:148: The name tf.placeholder_with_default is deprecated. Please use tf.compat.v1.placeholder_with_default instead.\n",
            "\n",
            "WARNING:tensorflow:From /usr/local/lib/python3.6/dist-packages/keras/backend/tensorflow_backend.py:3733: calling dropout (from tensorflow.python.ops.nn_ops) with keep_prob is deprecated and will be removed in a future version.\n",
            "Instructions for updating:\n",
            "Please use `rate` instead of `keep_prob`. Rate should be set to `rate = 1 - keep_prob`.\n"
          ],
          "name": "stdout"
        }
      ]
    },
    {
      "cell_type": "code",
      "metadata": {
        "id": "gyFpnHBoeQyT",
        "colab_type": "code",
        "colab": {}
      },
      "source": [
        "model.add(Dense(units=1))"
      ],
      "execution_count": 0,
      "outputs": []
    },
    {
      "cell_type": "code",
      "metadata": {
        "id": "hZaD5el_fNpf",
        "colab_type": "code",
        "outputId": "efe1b1cb-73f4-4b10-fbb7-551d12f79bd6",
        "colab": {
          "base_uri": "https://localhost:8080/",
          "height": 74
        }
      },
      "source": [
        "model.compile(optimizer='adam', loss='mean_squared_error')"
      ],
      "execution_count": 0,
      "outputs": [
        {
          "output_type": "stream",
          "text": [
            "WARNING:tensorflow:From /usr/local/lib/python3.6/dist-packages/keras/optimizers.py:793: The name tf.train.Optimizer is deprecated. Please use tf.compat.v1.train.Optimizer instead.\n",
            "\n"
          ],
          "name": "stdout"
        }
      ]
    },
    {
      "cell_type": "code",
      "metadata": {
        "id": "2aFHT-MGfXo7",
        "colab_type": "code",
        "outputId": "7cbb9486-c3e5-47ba-86e8-9001c7b1ce75",
        "colab": {
          "base_uri": "https://localhost:8080/",
          "height": 1000
        }
      },
      "source": [
        "model.fit(x_train,y_train,epochs=100,batch_size=32)"
      ],
      "execution_count": 0,
      "outputs": [
        {
          "output_type": "stream",
          "text": [
            "WARNING:tensorflow:From /usr/local/lib/python3.6/dist-packages/tensorflow_core/python/ops/math_grad.py:1424: where (from tensorflow.python.ops.array_ops) is deprecated and will be removed in a future version.\n",
            "Instructions for updating:\n",
            "Use tf.where in 2.0, which has the same broadcast rule as np.where\n",
            "WARNING:tensorflow:From /usr/local/lib/python3.6/dist-packages/keras/backend/tensorflow_backend.py:1033: The name tf.assign_add is deprecated. Please use tf.compat.v1.assign_add instead.\n",
            "\n",
            "WARNING:tensorflow:From /usr/local/lib/python3.6/dist-packages/keras/backend/tensorflow_backend.py:1020: The name tf.assign is deprecated. Please use tf.compat.v1.assign instead.\n",
            "\n",
            "WARNING:tensorflow:From /usr/local/lib/python3.6/dist-packages/keras/backend/tensorflow_backend.py:3005: The name tf.Session is deprecated. Please use tf.compat.v1.Session instead.\n",
            "\n",
            "Epoch 1/100\n",
            "WARNING:tensorflow:From /usr/local/lib/python3.6/dist-packages/keras/backend/tensorflow_backend.py:190: The name tf.get_default_session is deprecated. Please use tf.compat.v1.get_default_session instead.\n",
            "\n",
            "WARNING:tensorflow:From /usr/local/lib/python3.6/dist-packages/keras/backend/tensorflow_backend.py:197: The name tf.ConfigProto is deprecated. Please use tf.compat.v1.ConfigProto instead.\n",
            "\n",
            "WARNING:tensorflow:From /usr/local/lib/python3.6/dist-packages/keras/backend/tensorflow_backend.py:207: The name tf.global_variables is deprecated. Please use tf.compat.v1.global_variables instead.\n",
            "\n",
            "WARNING:tensorflow:From /usr/local/lib/python3.6/dist-packages/keras/backend/tensorflow_backend.py:216: The name tf.is_variable_initialized is deprecated. Please use tf.compat.v1.is_variable_initialized instead.\n",
            "\n",
            "WARNING:tensorflow:From /usr/local/lib/python3.6/dist-packages/keras/backend/tensorflow_backend.py:223: The name tf.variables_initializer is deprecated. Please use tf.compat.v1.variables_initializer instead.\n",
            "\n",
            "1459/1459 [==============================] - 21s 14ms/step - loss: 0.0339\n",
            "Epoch 2/100\n",
            "1459/1459 [==============================] - 15s 10ms/step - loss: 0.0043\n",
            "Epoch 3/100\n",
            "1459/1459 [==============================] - 15s 10ms/step - loss: 0.0040\n",
            "Epoch 4/100\n",
            "1459/1459 [==============================] - 15s 10ms/step - loss: 0.0054\n",
            "Epoch 5/100\n",
            "1459/1459 [==============================] - 15s 10ms/step - loss: 0.0046\n",
            "Epoch 6/100\n",
            "1459/1459 [==============================] - 15s 10ms/step - loss: 0.0033\n",
            "Epoch 7/100\n",
            "1459/1459 [==============================] - 15s 10ms/step - loss: 0.0040\n",
            "Epoch 8/100\n",
            "1459/1459 [==============================] - 15s 10ms/step - loss: 0.0034\n",
            "Epoch 9/100\n",
            "1459/1459 [==============================] - 15s 11ms/step - loss: 0.0040\n",
            "Epoch 10/100\n",
            "1459/1459 [==============================] - 15s 10ms/step - loss: 0.0036\n",
            "Epoch 11/100\n",
            "1459/1459 [==============================] - 15s 10ms/step - loss: 0.0037\n",
            "Epoch 12/100\n",
            "1459/1459 [==============================] - 15s 10ms/step - loss: 0.0030\n",
            "Epoch 13/100\n",
            "1459/1459 [==============================] - 15s 10ms/step - loss: 0.0034\n",
            "Epoch 14/100\n",
            "1459/1459 [==============================] - 15s 10ms/step - loss: 0.0029\n",
            "Epoch 15/100\n",
            "1459/1459 [==============================] - 15s 11ms/step - loss: 0.0029\n",
            "Epoch 16/100\n",
            "1459/1459 [==============================] - 15s 10ms/step - loss: 0.0029\n",
            "Epoch 17/100\n",
            "1459/1459 [==============================] - 15s 10ms/step - loss: 0.0040\n",
            "Epoch 18/100\n",
            "1459/1459 [==============================] - 15s 11ms/step - loss: 0.0031\n",
            "Epoch 19/100\n",
            "1459/1459 [==============================] - 15s 10ms/step - loss: 0.0025\n",
            "Epoch 20/100\n",
            "1459/1459 [==============================] - 15s 10ms/step - loss: 0.0027\n",
            "Epoch 21/100\n",
            "1459/1459 [==============================] - 15s 11ms/step - loss: 0.0027\n",
            "Epoch 22/100\n",
            "1459/1459 [==============================] - 15s 11ms/step - loss: 0.0025\n",
            "Epoch 23/100\n",
            "1459/1459 [==============================] - 15s 10ms/step - loss: 0.0027\n",
            "Epoch 24/100\n",
            "1459/1459 [==============================] - 15s 10ms/step - loss: 0.0029\n",
            "Epoch 25/100\n",
            "1459/1459 [==============================] - 15s 10ms/step - loss: 0.0027\n",
            "Epoch 26/100\n",
            "1459/1459 [==============================] - 15s 11ms/step - loss: 0.0024\n",
            "Epoch 27/100\n",
            "1459/1459 [==============================] - 15s 10ms/step - loss: 0.0022\n",
            "Epoch 28/100\n",
            "1459/1459 [==============================] - 15s 10ms/step - loss: 0.0024\n",
            "Epoch 29/100\n",
            "1459/1459 [==============================] - 15s 10ms/step - loss: 0.0027\n",
            "Epoch 30/100\n",
            "1459/1459 [==============================] - 15s 11ms/step - loss: 0.0024\n",
            "Epoch 31/100\n",
            "1459/1459 [==============================] - 15s 10ms/step - loss: 0.0021\n",
            "Epoch 32/100\n",
            "1459/1459 [==============================] - 15s 10ms/step - loss: 0.0025\n",
            "Epoch 33/100\n",
            "1459/1459 [==============================] - 15s 10ms/step - loss: 0.0022\n",
            "Epoch 34/100\n",
            "1459/1459 [==============================] - 15s 11ms/step - loss: 0.0020\n",
            "Epoch 35/100\n",
            "1459/1459 [==============================] - 15s 10ms/step - loss: 0.0021\n",
            "Epoch 36/100\n",
            "1459/1459 [==============================] - 15s 10ms/step - loss: 0.0024\n",
            "Epoch 37/100\n",
            "1459/1459 [==============================] - 15s 10ms/step - loss: 0.0022\n",
            "Epoch 38/100\n",
            "1459/1459 [==============================] - 15s 11ms/step - loss: 0.0021\n",
            "Epoch 39/100\n",
            "1459/1459 [==============================] - 15s 10ms/step - loss: 0.0022\n",
            "Epoch 40/100\n",
            "1459/1459 [==============================] - 15s 10ms/step - loss: 0.0020\n",
            "Epoch 41/100\n",
            "1459/1459 [==============================] - 15s 10ms/step - loss: 0.0021\n",
            "Epoch 42/100\n",
            "1459/1459 [==============================] - 15s 10ms/step - loss: 0.0019\n",
            "Epoch 43/100\n",
            "1459/1459 [==============================] - 15s 10ms/step - loss: 0.0019\n",
            "Epoch 44/100\n",
            "1459/1459 [==============================] - 15s 10ms/step - loss: 0.0020\n",
            "Epoch 45/100\n",
            "1459/1459 [==============================] - 15s 10ms/step - loss: 0.0018\n",
            "Epoch 46/100\n",
            "1459/1459 [==============================] - 15s 10ms/step - loss: 0.0019\n",
            "Epoch 47/100\n",
            "1459/1459 [==============================] - 15s 10ms/step - loss: 0.0020\n",
            "Epoch 48/100\n",
            "1459/1459 [==============================] - 15s 10ms/step - loss: 0.0016\n",
            "Epoch 49/100\n",
            "1459/1459 [==============================] - 15s 10ms/step - loss: 0.0019\n",
            "Epoch 50/100\n",
            "1459/1459 [==============================] - 15s 10ms/step - loss: 0.0020\n",
            "Epoch 51/100\n",
            "1459/1459 [==============================] - 15s 10ms/step - loss: 0.0016\n",
            "Epoch 52/100\n",
            "1459/1459 [==============================] - 15s 10ms/step - loss: 0.0016\n",
            "Epoch 53/100\n",
            "1459/1459 [==============================] - 15s 10ms/step - loss: 0.0019\n",
            "Epoch 54/100\n",
            "1459/1459 [==============================] - 15s 10ms/step - loss: 0.0016\n",
            "Epoch 55/100\n",
            "1459/1459 [==============================] - 15s 10ms/step - loss: 0.0017\n",
            "Epoch 56/100\n",
            "1459/1459 [==============================] - 15s 10ms/step - loss: 0.0017\n",
            "Epoch 57/100\n",
            "1459/1459 [==============================] - 16s 11ms/step - loss: 0.0015\n",
            "Epoch 58/100\n",
            "1459/1459 [==============================] - 15s 11ms/step - loss: 0.0016\n",
            "Epoch 59/100\n",
            "1459/1459 [==============================] - 15s 10ms/step - loss: 0.0015\n",
            "Epoch 60/100\n",
            "1459/1459 [==============================] - 15s 10ms/step - loss: 0.0014\n",
            "Epoch 61/100\n",
            "1459/1459 [==============================] - 15s 10ms/step - loss: 0.0015\n",
            "Epoch 62/100\n",
            "1459/1459 [==============================] - 15s 10ms/step - loss: 0.0013\n",
            "Epoch 63/100\n",
            "1459/1459 [==============================] - 15s 10ms/step - loss: 0.0013\n",
            "Epoch 64/100\n",
            "1459/1459 [==============================] - 15s 10ms/step - loss: 0.0016\n",
            "Epoch 65/100\n",
            "1459/1459 [==============================] - 15s 10ms/step - loss: 0.0014\n",
            "Epoch 66/100\n",
            "1459/1459 [==============================] - 15s 10ms/step - loss: 0.0015\n",
            "Epoch 67/100\n",
            "1459/1459 [==============================] - 15s 10ms/step - loss: 0.0013\n",
            "Epoch 68/100\n",
            "1459/1459 [==============================] - 15s 10ms/step - loss: 0.0013\n",
            "Epoch 69/100\n",
            "1459/1459 [==============================] - 17s 11ms/step - loss: 0.0015\n",
            "Epoch 70/100\n",
            "1459/1459 [==============================] - 15s 10ms/step - loss: 0.0016\n",
            "Epoch 71/100\n",
            "1459/1459 [==============================] - 15s 10ms/step - loss: 0.0013\n",
            "Epoch 72/100\n",
            "1459/1459 [==============================] - 15s 10ms/step - loss: 0.0013\n",
            "Epoch 73/100\n",
            "1459/1459 [==============================] - 15s 10ms/step - loss: 0.0013\n",
            "Epoch 74/100\n",
            "1459/1459 [==============================] - 15s 10ms/step - loss: 0.0012\n",
            "Epoch 75/100\n",
            "1459/1459 [==============================] - 15s 10ms/step - loss: 0.0014\n",
            "Epoch 76/100\n",
            "1459/1459 [==============================] - 15s 10ms/step - loss: 0.0013\n",
            "Epoch 77/100\n",
            "1459/1459 [==============================] - 15s 10ms/step - loss: 0.0011\n",
            "Epoch 78/100\n",
            "1459/1459 [==============================] - 15s 10ms/step - loss: 0.0014\n",
            "Epoch 79/100\n",
            "1459/1459 [==============================] - 15s 10ms/step - loss: 0.0013\n",
            "Epoch 80/100\n",
            "1459/1459 [==============================] - 15s 10ms/step - loss: 0.0012\n",
            "Epoch 81/100\n",
            "1459/1459 [==============================] - 15s 10ms/step - loss: 0.0012\n",
            "Epoch 82/100\n",
            "1459/1459 [==============================] - 15s 10ms/step - loss: 0.0014\n",
            "Epoch 83/100\n",
            "1459/1459 [==============================] - 15s 10ms/step - loss: 0.0011\n",
            "Epoch 84/100\n",
            "1459/1459 [==============================] - 15s 10ms/step - loss: 0.0013\n",
            "Epoch 85/100\n",
            "1459/1459 [==============================] - 15s 10ms/step - loss: 0.0014\n",
            "Epoch 86/100\n",
            "1459/1459 [==============================] - 15s 10ms/step - loss: 0.0011\n",
            "Epoch 87/100\n",
            "1459/1459 [==============================] - 15s 10ms/step - loss: 0.0010\n",
            "Epoch 88/100\n",
            "1459/1459 [==============================] - 15s 10ms/step - loss: 0.0013\n",
            "Epoch 89/100\n",
            "1459/1459 [==============================] - 15s 11ms/step - loss: 0.0014\n",
            "Epoch 90/100\n",
            "1459/1459 [==============================] - 16s 11ms/step - loss: 0.0013\n",
            "Epoch 91/100\n",
            "1459/1459 [==============================] - 15s 11ms/step - loss: 0.0012\n",
            "Epoch 92/100\n",
            "1459/1459 [==============================] - 15s 10ms/step - loss: 0.0011\n",
            "Epoch 93/100\n",
            "1459/1459 [==============================] - 15s 10ms/step - loss: 0.0011\n",
            "Epoch 94/100\n",
            "1459/1459 [==============================] - 15s 10ms/step - loss: 0.0012\n",
            "Epoch 95/100\n",
            "1459/1459 [==============================] - 15s 10ms/step - loss: 0.0011\n",
            "Epoch 96/100\n",
            "1459/1459 [==============================] - 15s 10ms/step - loss: 8.7321e-04\n",
            "Epoch 97/100\n",
            "1459/1459 [==============================] - 15s 10ms/step - loss: 0.0014\n",
            "Epoch 98/100\n",
            "1459/1459 [==============================] - 15s 10ms/step - loss: 9.2569e-04\n",
            "Epoch 99/100\n",
            "1459/1459 [==============================] - 15s 10ms/step - loss: 0.0010\n",
            "Epoch 100/100\n",
            "1459/1459 [==============================] - 15s 10ms/step - loss: 0.0011\n"
          ],
          "name": "stdout"
        },
        {
          "output_type": "execute_result",
          "data": {
            "text/plain": [
              "<keras.callbacks.History at 0x7fc73225e8d0>"
            ]
          },
          "metadata": {
            "tags": []
          },
          "execution_count": 13
        }
      ]
    },
    {
      "cell_type": "code",
      "metadata": {
        "id": "pgRQX4HHfksc",
        "colab_type": "code",
        "colab": {}
      },
      "source": [
        "scaled_test_data=scaler.fit_transform(test_data)\n",
        "x_test=[]\n",
        "for i in range(50,len(test_data)):\n",
        "  x_test.append(scaled_test_data[i-50:i])\n",
        "x_test=np.array(x_test)\n",
        "x_test=np.reshape(x_test,(x_test.shape[0],x_test.shape[1],1))\n",
        "target_price=model.predict(x_test)"
      ],
      "execution_count": 0,
      "outputs": []
    },
    {
      "cell_type": "code",
      "metadata": {
        "id": "QWtQkQmdnK80",
        "colab_type": "code",
        "colab": {}
      },
      "source": [
        "predicted_prices=[]\n",
        "inverse_transformed_price=scaler.inverse_transform(target_price)\n",
        "for i in inverse_transformed_price:\n",
        "  for j in i:\n",
        "    predicted_prices.append(j)"
      ],
      "execution_count": 0,
      "outputs": []
    },
    {
      "cell_type": "code",
      "metadata": {
        "id": "qRFHTmpunoXu",
        "colab_type": "code",
        "colab": {}
      },
      "source": [
        "test_data=list(test_data[50:])\n",
        "timestamp=[i for i in range(len(test_data))]"
      ],
      "execution_count": 0,
      "outputs": []
    },
    {
      "cell_type": "code",
      "metadata": {
        "id": "Qxt3zSlbnqqD",
        "colab_type": "code",
        "outputId": "5a67f651-38b5-4fbe-d07e-3d79adb003fe",
        "colab": {
          "base_uri": "https://localhost:8080/",
          "height": 295
        }
      },
      "source": [
        "plt.plot(timestamp,test_data)\n",
        "plt.plot(timestamp,predicted_prices)\n",
        "plt.title('Actual VS Predicted Stock Prices')\n",
        "plt.ylabel('open price')\n",
        "plt.xlabel('Time Stamp')\n",
        "plt.legend(loc='best',labels=['Actual Price','Predicted Price'])\n",
        "plt.show()"
      ],
      "execution_count": 0,
      "outputs": [
        {
          "output_type": "display_data",
          "data": {
            "image/png": "[encoded data removed]",
            "text/plain": [
              "<Figure size 432x288 with 1 Axes>"
            ]
          },
          "metadata": {
            "tags": []
          }
        }
      ]
    },
    {
      "cell_type": "code",
      "metadata": {
        "id": "_BLc3CqfoXuo",
        "colab_type": "code",
        "colab": {}
      },
      "source": [
        ""
      ],
      "execution_count": 0,
      "outputs": []
    }
  ]
}