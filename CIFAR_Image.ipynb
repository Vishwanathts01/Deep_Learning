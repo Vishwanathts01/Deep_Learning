{
 "cells": [
  {
   "cell_type": "markdown",
   "metadata": {},
   "source": [
    "__Complete all sub-tasks marked with ## TO DO! ## and submit the filled notebook on OLAT__ "
   ]
  },
  {
   "cell_type": "code",
   "execution_count": 1,
   "metadata": {
    "slideshow": {
     "slide_type": "fragment"
    }
   },
   "outputs": [],
   "source": [
    "%matplotlib inline"
   ]
  },
  {
   "cell_type": "code",
   "execution_count": 18,
   "metadata": {
    "slideshow": {
     "slide_type": "fragment"
    }
   },
   "outputs": [
    {
     "name": "stdout",
     "output_type": "stream",
     "text": [
      "cpu\n"
     ]
    }
   ],
   "source": [
    "import torch\n",
    "import numpy as np\n",
    "\n",
    "if torch.cuda.is_available():\n",
    "    device = torch.device('cuda')\n",
    "else:\n",
    "    device = torch.device('cpu')\n",
    "\n",
    "print(device)"
   ]
  },
  {
   "cell_type": "markdown",
   "metadata": {},
   "source": [
    "Note: Tasks in this notebook can be solved without a GPU as well"
   ]
  },
  {
   "cell_type": "markdown",
   "metadata": {},
   "source": [
    "__Objective of this notebook is to give hands on experience in training a Convolutional Neural Network(CNN) from scratch using Pytorch framework. Further the tasks will also give an insight on how to change the network architecture and hyperparameter settings to achieve better results.__\n",
    "\n",
    "Fill the code in the notebook where it is explicitly mentioned and solve all tasks to complete the assignment"
   ]
  },
  {
   "cell_type": "markdown",
   "metadata": {},
   "source": [
    "We divide our task in followind steps:\n",
    "\n",
    "1- We load the CIFAR-10 dataset and try to look at some properties of the dataset like:\n",
    "    * size of the images\n",
    "    * number of images in the dataset\n",
    "    * number of channels in the image(RGB 3 channel or grayscale single channel image)\n",
    "    * number of classes in the dataset\n",
    "    \n",
    "    \n",
    "2- We define a network architecture which takes batches of the images in the form of a 4-dimensional tensor and compute the output scores for each class in the dataset\n",
    "\n",
    "3- We define our loss function for training the network and an optimizer(SGD, Adam, or Adagrad) which defines the strategy to update weights of the network\n",
    "\n",
    "4- We finally train our network and try to find out the accuracy on validation set, and eventually improve the network architecture to get better accuracy"
   ]
  },
  {
   "cell_type": "markdown",
   "metadata": {},
   "source": [
    "---\n",
    "\n",
    "__Step-1__ : Loading the CIFAR-10 dataset is very easy using ``torchvision`` package, which has readily availabe famous datasets and API to load these datasets into batches known as dataloaders via ``torchvision.Datasets``and ``torch.utils.data.DataLoader'``"
   ]
  },
  {
   "cell_type": "code",
   "execution_count": 6,
   "metadata": {},
   "outputs": [],
   "source": [
    "import torchvision"
   ]
  },
  {
   "cell_type": "code",
   "execution_count": 7,
   "metadata": {},
   "outputs": [],
   "source": [
    "####################################################################################################\n",
    "## TO DO! : Define transform variable                                                             ##\n",
    "####################################################################################################\n",
    "\n",
    "\n",
    "# First define a transform to convert RGB images into tensors and another transform to normalize\n",
    "# them with the channel-wise mean and standard deviation of the \n",
    "# CIFAR-10 dataset\n",
    "import torchvision.transforms as transforms\n",
    "\n",
    "transform = transforms.Compose([transforms.ToTensor(),\n",
    "     transforms.Normalize((0.5, 0.5, 0.5), (0.5, 0.5, 0.5))])\n",
    "    \n",
    "    \n"
   ]
  },
  {
   "cell_type": "code",
   "execution_count": 8,
   "metadata": {},
   "outputs": [
    {
     "name": "stdout",
     "output_type": "stream",
     "text": [
      "Files already downloaded and verified\n",
      "Files already downloaded and verified\n"
     ]
    }
   ],
   "source": [
    "# Use above transform as an argument to load the training and\n",
    "# the test set for CIFAR-10\n",
    "trainset = torchvision.datasets.CIFAR10(root='./data', train=True, \n",
    "                                        download=True, transform=transform)\n",
    "\n",
    "testset = torchvision.datasets.CIFAR10(root='./data', train=False,\n",
    "                                       download=True, transform=transform)"
   ]
  },
  {
   "cell_type": "code",
   "execution_count": 9,
   "metadata": {},
   "outputs": [
    {
     "name": "stdout",
     "output_type": "stream",
     "text": [
      "the shape of one data item: torch.Size([3, 32, 32])\n",
      "50000\n",
      "10000\n",
      "['airplane', 'automobile', 'bird', 'cat', 'deer', 'dog', 'frog', 'horse', 'ship', 'truck']\n"
     ]
    }
   ],
   "source": [
    "####################################################################################################\n",
    "## TO DO! : Write code to  print below                                                            ##\n",
    "## mentioned statistics                                                                           ##\n",
    "####################################################################################################\n",
    "images,classes =trainset[1]\n",
    "print(\"the shape of one data item:\",images.size())\n",
    "print(trainset.data.shape[0])\n",
    "print(testset.data.shape[0])\n",
    "print(trainset.classes)\n",
    "# Write code to \n",
    "# extract and print the below statistics from above defined Dataset :\n",
    "# size of the images (height, width and number of channels)\n",
    "# size of the training images\n",
    "# size of the test images\n",
    "# Classes in CIFAR-10 dataset\n"
   ]
  },
  {
   "cell_type": "code",
   "execution_count": 10,
   "metadata": {},
   "outputs": [
    {
     "ename": "NameError",
     "evalue": "name 'torch' is not defined",
     "output_type": "error",
     "traceback": [
      "\u001b[0;31m---------------------------------------------------------------------------\u001b[0m",
      "\u001b[0;31mNameError\u001b[0m                                 Traceback (most recent call last)",
      "\u001b[0;32m<ipython-input-10-653c1a0e327f>\u001b[0m in \u001b[0;36m<module>\u001b[0;34m\u001b[0m\n\u001b[1;32m      1\u001b[0m \u001b[0;31m## define test loader\u001b[0m\u001b[0;34m\u001b[0m\u001b[0;34m\u001b[0m\u001b[0;34m\u001b[0m\u001b[0m\n\u001b[1;32m      2\u001b[0m \u001b[0;34m\u001b[0m\u001b[0m\n\u001b[0;32m----> 3\u001b[0;31m test_loader = torch.utils.data.DataLoader(testset, batch_size=100,\n\u001b[0m\u001b[1;32m      4\u001b[0m                                          shuffle=False, num_workers=2)\n\u001b[1;32m      5\u001b[0m \u001b[0;34m\u001b[0m\u001b[0m\n",
      "\u001b[0;31mNameError\u001b[0m: name 'torch' is not defined"
     ]
    }
   ],
   "source": [
    "## define test loader\n",
    "\n",
    "test_loader = torch.utils.data.DataLoader(testset, batch_size=100,\n",
    "                                         shuffle=False, num_workers=2)\n",
    "\n",
    "# Split the trainset into train_data and val_data with 1000 images \n",
    "# in validation set and rest in the training set (use random_split in pytorch to split the dataset)\n",
    "\n",
    "val_data, train_data = torch.utils.data.random_split(trainset, [1000, 49000])\n",
    "\n",
    "# define train_loader and val_loader of\n",
    "trainloader = torch.utils.data.DataLoader(train_data, batch_size=64,\n",
    "                                          shuffle=True, num_workers=2)\n",
    "\n",
    "valloader =  torch.utils.data.DataLoader(val_data, batch_size=64,\n",
    "                                          shuffle=True, num_workers=2)\n"
   ]
  },
  {
   "cell_type": "code",
   "execution_count": 8,
   "metadata": {},
   "outputs": [
    {
     "name": "stderr",
     "output_type": "stream",
     "text": [
      "Clipping input data to the valid range for imshow with RGB data ([0..1] for floats or [0..255] for integers).\n"
     ]
    },
    {
     "data": {
      "text/plain": [
       "<matplotlib.image.AxesImage at 0x7f36c0e781d0>"
      ]
     },
     "execution_count": 8,
     "metadata": {},
     "output_type": "execute_result"
    },
    {
     "data": {
      "image/png": "[encoded data removed]",
      "text/plain": [
       "<Figure size 432x288 with 1 Axes>"
      ]
     },
     "metadata": {
      "needs_background": "light"
     },
     "output_type": "display_data"
    }
   ],
   "source": [
    "####################################################################################################\n",
    "## TO DO! : write code to load a batch of images and visualize them                               ##                            ##\n",
    "####################################################################################################\n",
    "import matplotlib.pyplot as plt\n",
    "\n",
    "batch_load = next(iter(trainloader))\n",
    "#images = batch_load\n",
    "images,classes = batch_load\n",
    "\n",
    "out = torchvision.utils.make_grid(images)\n",
    "\n",
    "plt.imshow(np.transpose(out))\n"
   ]
  },
  {
   "cell_type": "markdown",
   "metadata": {},
   "source": [
    "---\n",
    "__Step-2:__ Define a simple convolutional Neural network with two convolutional layers and 2 fully-connected layers\n",
    "\n",
    "\n",
    "  (conv1): Conv2d(3, 6, kernel_size=(5, 5), stride=(1, 1)) \\\n",
    "  (pool): MaxPool2d(kernel_size=2, stride=2, padding=0, dilation=1, ceil_mode=False) \\\n",
    "  (conv2): Conv2d(6, 16, kernel_size=(5, 5), stride=(1, 1)) \\\n",
    "  (fc1): Linear(in_features=400, out_features=120, bias=True) \\\n",
    "  (fc2): Linear(in_features=120, out_features=84, bias=True) \\\n",
    "  (fc3): Linear(in_features=84, out_features=10, bias=True)\n"
   ]
  },
  {
   "cell_type": "code",
   "execution_count": 9,
   "metadata": {},
   "outputs": [],
   "source": [
    "####################################################################################################\n",
    "## TO DO! : Define Forward pass of the network                                                    ##\n",
    "####################################################################################################\n",
    "import torch.nn as nn\n",
    "import torch.nn.functional as F\n",
    "\n",
    "\n",
    "class Net(nn.Module):\n",
    "    def __init__(self):\n",
    "        super(Net, self).__init__()\n",
    "        self.conv1 = nn.Conv2d(3, 6, 5)\n",
    "        self.pool1 = nn.MaxPool2d(2, 2)\n",
    "        self.conv2 = nn.Conv2d(6, 16, 5)\n",
    "        self.pool2 = nn.MaxPool2d(2, 2)\n",
    "        self.fc1 = nn.Linear(16 * 5 * 5, 120)\n",
    "        self.fc2 = nn.Linear(120, 84)\n",
    "        self.fc3 = nn.Linear(84, 10)\n",
    "\n",
    "    def forward(self, x):\n",
    "        x = self.pool1(F.relu(self.conv1(x)))\n",
    "        x = self.pool2(F.relu(self.conv2(x)))\n",
    "        x = x.view(-1, 16 * 5 * 5)\n",
    "        x = F.relu(self.fc1(x))\n",
    "        x = F.relu(self.fc2(x))\n",
    "        x = self.fc3(x)\n",
    "        return x\n",
    "       \n",
    "\n"
   ]
  },
  {
   "cell_type": "markdown",
   "metadata": {},
   "source": [
    "__Step-3:__ Defining the loss function "
   ]
  },
  {
   "cell_type": "code",
   "execution_count": 10,
   "metadata": {},
   "outputs": [],
   "source": [
    "criterion = nn.CrossEntropyLoss()"
   ]
  },
  {
   "cell_type": "markdown",
   "metadata": {},
   "source": [
    "__Step 4:__ Train the network, for 10 epochs and calculate the accuracy on the validation set\n",
    "\n",
    "Define some utility functions and then functions to train the model on the test set and validate it on the validation set"
   ]
  },
  {
   "cell_type": "code",
   "execution_count": 11,
   "metadata": {},
   "outputs": [],
   "source": [
    "####################################################################################################\n",
    "## DO NOT CHANGE THE CODE HERE!!                                                                  ##\n",
    "####################################################################################################\n",
    "\n",
    "def weight_reset(m):\n",
    "    if isinstance(m, nn.Conv2d) or isinstance(m, nn.Linear):\n",
    "        m.reset_parameters()"
   ]
  },
  {
   "cell_type": "code",
   "execution_count": 12,
   "metadata": {},
   "outputs": [],
   "source": [
    "####################################################################################################\n",
    "## DO NOT CHANGE THE CODE HERE!!                                                                  ##\n",
    "####################################################################################################\n",
    "\n",
    "def get_accuracy(output, target, topk=(1,)):\n",
    "    \"\"\"Computes the accuracy over the \n",
    "    k top predictions for the specified values of k\"\"\"\n",
    "    with torch.no_grad():\n",
    "        maxk = max(topk)\n",
    "        batch_size = target.size(0)\n",
    "\n",
    "        _, pred = output.topk(maxk, 1, True, True)\n",
    "        pred = pred.t()\n",
    "        correct = pred.eq(target.view(1, -1).expand_as(pred))\n",
    "\n",
    "        res = []\n",
    "        for k in topk:\n",
    "            correct_k = correct[:k].view(-1).float().sum(0, keepdim=True)\n",
    "            res.append(correct_k.mul_(100.0 / batch_size))\n",
    "        return res"
   ]
  },
  {
   "cell_type": "code",
   "execution_count": 13,
   "metadata": {},
   "outputs": [],
   "source": [
    "####################################################################################################\n",
    "## DO NOT CHANGE THE CODE HERE!!                                                                  ##\n",
    "####################################################################################################\n",
    "def validate(net, valoader, criterion):\n",
    "    val_loss = 0\n",
    "    val_accuracy = 0\n",
    "    net.eval()\n",
    "    with torch.no_grad():\n",
    "        for batch_idx, (inputs, targets) in enumerate(valloader):\n",
    "            inputs, targets = inputs.to(device), targets.to(device)\n",
    "            outputs = net(inputs)\n",
    "            loss = criterion(outputs, targets)\n",
    "            val_loss += loss.item()\n",
    "            accuracy = get_accuracy(outputs, targets)\n",
    "            val_accuracy += accuracy[0].item()\n",
    "        avg_loss = val_loss/(batch_idx+1)\n",
    "        avg_acc = val_accuracy/(batch_idx+1)\n",
    "        \n",
    "    return avg_loss, avg_acc"
   ]
  },
  {
   "cell_type": "code",
   "execution_count": 14,
   "metadata": {},
   "outputs": [],
   "source": [
    "####################################################################################################\n",
    "## DO NOT CHANGE THE CODE HERE!!                                                                  ##\n",
    "####################################################################################################\n",
    "def train_one_epoch(model, trainloader, optimizer, criterion):\n",
    "    model.train()\n",
    "    train_loss = 0\n",
    "    train_accuracy = 0\n",
    "    for batch_idx, (inputs, targets) in enumerate(trainloader):\n",
    "        inputs, targets = inputs.to(device), targets.to(device)\n",
    "        optimizer.zero_grad()\n",
    "        outputs = model(inputs)\n",
    "        loss = criterion(outputs, targets)\n",
    "        loss.backward()\n",
    "        optimizer.step()\n",
    "        train_loss += loss.item()\n",
    "        accuracy = get_accuracy(outputs, targets)\n",
    "        train_accuracy += accuracy[0].item()\n",
    "    avg_train_loss = train_loss/(batch_idx+1)\n",
    "    avg_train_acc = train_accuracy/(batch_idx+1)\n",
    "    return avg_train_loss, avg_train_acc, model "
   ]
  },
  {
   "cell_type": "code",
   "execution_count": 15,
   "metadata": {},
   "outputs": [
    {
     "name": "stdout",
     "output_type": "stream",
     "text": [
      "epoch:1   train_acc:30.47   val_acc:42.07\n",
      "epoch:2   train_acc:49.05   val_acc:50.62\n",
      "epoch:3   train_acc:55.63   val_acc:54.53\n",
      "epoch:4   train_acc:59.82   val_acc:59.45\n",
      "epoch:5   train_acc:62.67   val_acc:62.71\n",
      "epoch:6   train_acc:64.98   val_acc:61.91\n",
      "epoch:7   train_acc:66.66   val_acc:64.34\n",
      "epoch:8   train_acc:67.98   val_acc:63.38\n",
      "epoch:9   train_acc:69.26   val_acc:65.31\n",
      "epoch:10   train_acc:70.70   val_acc:65.49\n"
     ]
    }
   ],
   "source": [
    "####################################################################################################\n",
    "## TO DO! : Define optimizer (SGD, learning rate = 0.01 and momentum 0.9)                         ##\n",
    "## TO DO! : Train the model for 10 epochs                                                         ##\n",
    "####################################################################################################\n",
    "import torch.optim as optim\n",
    "\n",
    "model = Net().to(device)\n",
    "model.apply(weight_reset)\n",
    "optimizer = optim.SGD(model.parameters(), lr=0.01, momentum=0.9)\n",
    "for epoch in range(10):\n",
    "    train_loss, train_acc, model = train_one_epoch(model, trainloader,\n",
    "                                                 optimizer, criterion)\n",
    "    val_loss, val_acc = validate(model, valloader, criterion)\n",
    "    message = (f\"epoch:{epoch+1}   train_acc:{train_acc:.2f}   \"\n",
    "              f\"val_acc:{val_acc:.2f}\")\n",
    "    print(message)"
   ]
  },
  {
   "cell_type": "markdown",
   "metadata": {},
   "source": [
    "### Task: Define your own network, such that the validation acccuracy of the model is greater than 70%.  Following constraints should be strictly followed: ###\n",
    "\n",
    "1. The network should be trained from scratch (randomly initialized weigths), transfer learning is not allowed\n",
    "\n",
    "Note: Apply __model.apply(weight_reset)__ method over your model before training to make sure model is randomly initialized\n",
    "2. Use the training methods as defined above (train_one_epoch() and validate() should be used and not changed)\n",
    "3. Your network should reach atleast 70% accuracy on validatin set under 10 epochs"
   ]
  },
  {
   "cell_type": "code",
   "execution_count": 16,
   "metadata": {},
   "outputs": [],
   "source": [
    "####################################################################################################\n",
    "## TO DO! :  Write the implementation of the model here according to the task defined above       ##\n",
    "## Define any other changes you made in optimizer or transforms (if required) in this cell only   ##\n",
    "## Train the model for 10 epochs and print validation accuracy after the 10th epoch               ##\n",
    "####################################################################################################\n",
    "import torch.nn as nn\n",
    "import torch.nn.functional as F\n",
    "import sys\n",
    "\n",
    "class Ghost_model(nn.Module):\n",
    "    def __init__(self):\n",
    "        super(Ghost_model, self).__init__()\n",
    "        self.conv1 = nn.Conv2d(3, 16,3,padding=1)\n",
    "        self.bn1 = nn.BatchNorm2d(16)\n",
    "        self.pool1 = nn.MaxPool2d(2, 2)\n",
    "        self.conv2 = nn.Conv2d(16,32 ,3, padding=1)\n",
    "        self.bn1 = nn.BatchNorm2d(32)\n",
    "        self.pool2 = nn.MaxPool2d(2, 2)\n",
    "        self.conv3 = nn.Conv2d(32, 64 ,3,padding=1)\n",
    "        self.bn1 = nn.BatchNorm2d(64)\n",
    "        self.pool3 = nn.MaxPool2d(2, 2)\n",
    "        self.dropout = nn.Dropout(0.2)\n",
    "        self.fc1 = nn.Linear(64 *4 * 4, 120)\n",
    "        self.fc1.bn1 = nn.BatchNorm2d(120)\n",
    "        self.fc2 = nn.Linear(120 , 80)\n",
    "        self.fc2.bn1 = nn.BatchNorm2d(120)\n",
    "        self.fc3 = nn.Linear(80,10)\n",
    "        \n",
    "    def forward(self, x):\n",
    "        x = self.pool1(F.relu(self.conv1(x)))\n",
    "        x = self.pool2(F.relu(self.conv2(x)))\n",
    "        x= self.pool3(F.relu(self.conv3(x)))\n",
    "        #y= x.size()\n",
    "        #print(y)\n",
    "        x = x.view(-1, 64 * 4 * 4)\n",
    "        x = F.relu(self.fc1(x))\n",
    "        x = F.relu(self.fc2(x))\n",
    "        x = F.relu(self.fc3(x))\n",
    "        return x\n",
    "     \n"
   ]
  },
  {
   "cell_type": "markdown",
   "metadata": {},
   "source": [
    "__Hint:__ One might try following ways to obtain the required results:\n",
    "\n",
    "1) __Filter Size:__ The filter size can be decreased from 5 to 3, this can increase efficiency and reduce overfitting\n",
    "\n",
    "2) __Number of Filters:__ Increase the number of filters in each convoltuional layer. More convolutional filters gives a network higher representation power\n",
    "\n",
    "3) __Add more convolutions:__ Increase from two to three convolutional layers. This indeed helps in better receptive fields of the filters and increase represtation power of the network.\n",
    "\n",
    "4) __Apply Batch Normalizations:__ Batch Normalization will help your model to train faster. Hence it can help the network to converge to better accuracy in less number of epochs\n",
    "\n",
    "5) __Global Average Pooling:__ Get rid of all the layers and replace them by average pooling and a linear layer for classification. This idea is from the Inception network.  \n",
    "\n",
    "6) __Regularization:__ Apply L2 regularization and dropout, if you see validation accuracy going much lower than the training accuracy\n",
    "\n",
    "7) __Different Optimizer:__ Instead of SGD, optimizers like Adam and Adagrad can be tried "
   ]
  },
  {
   "cell_type": "code",
   "execution_count": 17,
   "metadata": {},
   "outputs": [
    {
     "name": "stdout",
     "output_type": "stream",
     "text": [
      "epoch:1   train_acc:38.49   val_acc:47.05\n",
      "epoch:2   train_acc:53.37   val_acc:54.30\n",
      "epoch:3   train_acc:59.75   val_acc:58.54\n",
      "epoch:4   train_acc:63.75   val_acc:59.39\n",
      "epoch:5   train_acc:70.09   val_acc:71.74\n",
      "epoch:6   train_acc:75.11   val_acc:72.07\n",
      "epoch:7   train_acc:76.93   val_acc:71.86\n",
      "epoch:8   train_acc:78.96   val_acc:73.67\n",
      "epoch:9   train_acc:80.03   val_acc:74.18\n",
      "epoch:10   train_acc:81.87   val_acc:75.10\n"
     ]
    }
   ],
   "source": [
    "import torch.optim as optim\n",
    "model = Ghost_model().to(device) # Implement such kind of model or even better :)\n",
    "model.apply(weight_reset)\n",
    "optimizer = optim.Adam(model.parameters())\n",
    "for epoch in range(10):\n",
    "    train_loss, train_acc, model = train_one_epoch(model, trainloader,\n",
    "                                                 optimizer, criterion)\n",
    "    val_loss, val_acc = validate(model, valloader, criterion)\n",
    "    message = (f\"epoch:{epoch+1}   train_acc:{train_acc:.2f}   \"\n",
    "              f\"val_acc:{val_acc:.2f}\")\n",
    "    print(message)"
   ]
  },
  {
   "cell_type": "code",
   "execution_count": null,
   "metadata": {},
   "outputs": [],
   "source": []
  }
 ],
 "metadata": {
  "kernelspec": {
   "display_name": "Python 3",
   "language": "python",
   "name": "python3"
  },
  "language_info": {
   "codemirror_mode": {
    "name": "ipython",
    "version": 3
   },
   "file_extension": ".py",
   "mimetype": "text/x-python",
   "name": "python",
   "nbconvert_exporter": "python",
   "pygments_lexer": "ipython3",
   "version": "3.7.3"
  }
 },
 "nbformat": 4,
 "nbformat_minor": 2
}
